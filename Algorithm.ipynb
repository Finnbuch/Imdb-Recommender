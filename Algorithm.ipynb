{
 "cells": [
  {
   "cell_type": "code",
   "execution_count": 287,
   "metadata": {},
   "outputs": [],
   "source": [
    "# importing libraries\n",
    "import pandas as pd\n",
    "from datetime import datetime\n",
    "import numpy as np\n",
    "import math"
   ]
  },
  {
   "cell_type": "code",
   "execution_count": 171,
   "metadata": {},
   "outputs": [],
   "source": [
    "#df = pd.read_csv(r'Data\\IMDB.csv')\n",
    "df_test = df.sample(n=5000000, random_state=1)"
   ]
  },
  {
   "cell_type": "code",
   "execution_count": 217,
   "metadata": {},
   "outputs": [],
   "source": [
    "df_test = df_test[df_test.startYear != '\\\\N']\n",
    "df_test[\"titleType\"] = df_test[\"titleType\"].apply(lambda x: str(x).lower())\n",
    "df_test[\"genres\"] = df_test[\"genres\"].apply(lambda x: str(x).lower())"
   ]
  },
  {
   "cell_type": "code",
   "execution_count": 370,
   "metadata": {},
   "outputs": [],
   "source": [
    "# creating a dict file containing movie id as key and date and rating as value in a tuple\n",
    "\n",
    "test_dict = {\"tt0309201\": (\"20/05/2023\", \"6\"), \"tt0016032\": (\"21/05/2022\", \"7\"),\n",
    "            \"tt1022045\": (\"22/03/2023\", \"4\"), \"tt0531025\": (\"23/04/2023\", \"7\"),\n",
    "            \"tt0032010\": (\"24/05/2023\", \"9\"), \"tt0034583\": (\"25/05/2023\", \"8\"),\n",
    "            \"tt0036775\": (\"26/05/2023\", \"7\"), \"tt0836868\": (\"27/05/2023\", \"6\"),\n",
    "            \"tt0038355\": (\"28/05/2023\", \"5\"), \"tt0038650\": (\"29/05/2023\", \"4\"),\n",
    "            \"tt0038787\": (\"30/05/2023\", \"9\"), \"tt0039628\": (\"31/05/2023\", \"2\"),\n",
    "            \"tt9040067\": (\"01/06/2019\", \"6\"), \"tt0640522\": (\"02/06/2023\", \"6\"),\n",
    "            \"tt7040746\": (\"03/06/2023\", \"3\"), \"tt0040897\": (\"04/06/2023\", \"4\"),\n",
    "            \"tt8041959\": (\"05/06/2023\", \"5\"), \"tt8041959\": (\"06/06/2023\", \"6\"),\n",
    "            \"tt8042041\": (\"07/06/2023\", \"7\"), \"tt8042332\": (\"08/06/2023\", \"8\"),\n",
    "            \"tt8943014\": (\"09/06/2023\", \"9\"), \"tt8044079\": (\"10/06/2023\", \"10\"),\n",
    "            \"tt8045152\": (\"11/05/2023\", \"9\"), \"tt0046250\": (\"12/05/2023\", \"8\"),\n",
    "            \"tt0047296\": (\"15/02/2010\", \"5\"), \"tt0047396\": (\"16/02/2023\", \"4\"),\n",
    "            \"tt0047478\": (\"17/03/2023\", \"8\"), \"tt0347528\": (\"18/03/2023\", \"5\"),\n",
    "            \"tt0047673\": (\"19/04/2023\", \"1\"), \"tt0947834\": (\"20/04/2023\", \"2\"),\n",
    "            \"tt1048021\": (\"21/04/2023\", \"3\"), \"tt0948356\": (\"22/04/2023\", \"4\"),\n",
    "            }"
   ]
  },
  {
   "cell_type": "code",
   "execution_count": 372,
   "metadata": {},
   "outputs": [],
   "source": [
    "# dropping all movies that were rated 3 and below\n",
    "delete_list = []\n",
    "for key, value in test_dict.items():\n",
    "    if int(value[1]) <= 3:\n",
    "        delete_list.append(key)\n",
    "\n",
    "for key in delete_list:\n",
    "    del test_dict[key]"
   ]
  },
  {
   "cell_type": "code",
   "execution_count": 342,
   "metadata": {},
   "outputs": [],
   "source": [
    "# creating a new df to store the required columns\n",
    "df_input = df.loc[df[\"tconst\"].isin(list(test_dict.keys()))].copy()\n",
    "df_input.reset_index(inplace=True, drop=True)\n",
    "df_input[\"relevance\"] = 0"
   ]
  },
  {
   "cell_type": "code",
   "execution_count": 343,
   "metadata": {},
   "outputs": [],
   "source": [
    "#### Delete this later ####\n",
    "df_input = df_input[df_input.startYear != '\\\\N']"
   ]
  },
  {
   "cell_type": "code",
   "execution_count": 362,
   "metadata": {},
   "outputs": [],
   "source": [
    "# this function decides on the relevance of each movie based on the date and rating\n",
    "\n",
    "def relevance(test_dict):\n",
    "    for key, value in test_dict.items():\n",
    "        date = datetime.strptime(value[0], \"%d/%m/%Y\")\n",
    "        rating = value[1]\n",
    "        relevance = float(rating) /(math.sqrt((abs(int((date - date.today()).days))))+ 0.01)\n",
    "        df_input[\"relevance\"].loc[df_input[\"tconst\"] == key] = relevance"
   ]
  },
  {
   "cell_type": "code",
   "execution_count": 363,
   "metadata": {},
   "outputs": [
    {
     "name": "stderr",
     "output_type": "stream",
     "text": [
      "C:\\Users\\Finn\\AppData\\Local\\Temp\\ipykernel_3384\\3968286732.py:8: SettingWithCopyWarning: \n",
      "A value is trying to be set on a copy of a slice from a DataFrame\n",
      "\n",
      "See the caveats in the documentation: https://pandas.pydata.org/pandas-docs/stable/user_guide/indexing.html#returning-a-view-versus-a-copy\n",
      "  df_input[\"relevance\"].loc[df_input[\"tconst\"] == key] = relevance\n"
     ]
    }
   ],
   "source": [
    "relevance(test_dict)"
   ]
  },
  {
   "cell_type": "code",
   "execution_count": 133,
   "metadata": {},
   "outputs": [],
   "source": [
    "# converting genre to lowercase and splitting the string into a list\n",
    "# in order to process rows with multiple genres\n",
    "df_input[\"genres\"] = df_input[\"genres\"].apply(lambda x: str(x).lower())\n",
    "df_input[\"genres\"] = df_input[\"genres\"].apply(lambda x: x.split(\",\"))"
   ]
  },
  {
   "cell_type": "code",
   "execution_count": 134,
   "metadata": {},
   "outputs": [],
   "source": [
    "\n",
    "# optaining unique genres and creating a dictionary to count the number of movies in each genre\n",
    "# adding the relevance of each movie to the corresponding genre\n",
    "genre_list = [item for sublist in df_input[\"genres\"].tolist() for item in sublist]\n",
    "genre_dict = {genre: 0 for genre in set(genre_list)}\n",
    "\n",
    "for i in range(len(df_input)):\n",
    "    temp_list = [df_input[\"genres\"].iloc[i]][0]\n",
    "    for genre in temp_list:\n",
    "            genre_dict[genre] += df_input[\"relevance\"].iloc[i]"
   ]
  },
  {
   "cell_type": "code",
   "execution_count": 136,
   "metadata": {},
   "outputs": [],
   "source": [
    "# converting genre to lowercase and splitting the string into a list\n",
    "# in order to process rows with multiple genres\n",
    "df_input[\"titleType\"] = df_input[\"titleType\"].apply(lambda x: str(x).lower())"
   ]
  },
  {
   "cell_type": "code",
   "execution_count": 138,
   "metadata": {},
   "outputs": [],
   "source": [
    "# optaining unique genres and creating a dictionary to count the number of movies in each genre\n",
    "# adding the relevance of each movie to the corresponding genre\n",
    "type_list = df_input[\"titleType\"].tolist()\n",
    "type_dict = {ttype: 0 for ttype in set(type_list)}\n",
    "\n",
    "for i in range(len(df_input)):\n",
    "    temp = [df_input[\"titleType\"].iloc[i]][0]\n",
    "    type_dict[temp] += df_input[\"relevance\"].iloc[i]"
   ]
  },
  {
   "cell_type": "code",
   "execution_count": 140,
   "metadata": {},
   "outputs": [],
   "source": [
    "# creating a dictionary for each decade and initializing the value to 0\n",
    "decade_dict = {\"1880-1889\" : 0, \"1890-1899\" : 0, \"1900-1909\" : 0,\"1910-1919\" : 0, \"1920-1929\" : 0,\n",
    "               \"1930-1939\" : 0, \"1940-1949\" : 0, \"1950-1959\" : 0,\"1960-1969\" : 0, \"1970-1979\" : 0,\n",
    "               \"1980-1989\" : 0, \"1990-1999\" : 0, \"2000-2009\" : 0,\"2010-2019\" : 0, \"2020-2029\" : 0\n",
    "               }"
   ]
  },
  {
   "cell_type": "code",
   "execution_count": 180,
   "metadata": {},
   "outputs": [],
   "source": [
    "# adding the relevance of each movie to the corresponding decade\n",
    "for i in range(len(df_input)):\n",
    "    year = [df_input[\"startYear\"].iloc[i]][0]\n",
    "    for decade in decade_dict:\n",
    "        start_year, end_year = map(int, decade.split('-'))\n",
    "        if start_year <= int(year) <= end_year:\n",
    "            decade_dict[decade] += df_input[\"relevance\"].iloc[i]"
   ]
  },
  {
   "cell_type": "code",
   "execution_count": 144,
   "metadata": {},
   "outputs": [
    {
     "name": "stderr",
     "output_type": "stream",
     "text": [
      "C:\\Users\\Finn\\AppData\\Local\\Temp\\ipykernel_3384\\3830930124.py:4: SettingWithCopyWarning: \n",
      "A value is trying to be set on a copy of a slice from a DataFrame\n",
      "\n",
      "See the caveats in the documentation: https://pandas.pydata.org/pandas-docs/stable/user_guide/indexing.html#returning-a-view-versus-a-copy\n",
      "  df_input[\"averageRating\"].iloc[i] = np.nan\n"
     ]
    }
   ],
   "source": [
    "# creating a rating interval and removeing rating with too little votes \n",
    "for i in range(len(df_input)):\n",
    "    if df_input[\"numVotes\"].iloc[i] <= 100:\n",
    "        df_input[\"averageRating\"].iloc[i] = np.nan"
   ]
  },
  {
   "cell_type": "code",
   "execution_count": 145,
   "metadata": {},
   "outputs": [],
   "source": [
    "# creating a dictionary for each rating and initializing the value to 0\n",
    "df_rating = df_input.dropna(subset=[\"averageRating\"])\n",
    "rating_list = df_rating[\"averageRating\"].tolist()\n",
    "rating_dict = {rating: 0 for rating in set(rating_list)}\n",
    "\n",
    "# adding the relevance of each movie to the corresponding rating\n",
    "for i in range(len(rating_dict)):\n",
    "    rating = [df_rating[\"averageRating\"].iloc[i]][0]\n",
    "    rating_dict[rating] += df_input[\"relevance\"].iloc[i]\n",
    "\n",
    "# creating a weighted mean for each rating\n",
    "weighted_mean = sum([value*rating for rating, value in rating_dict.items()]) / sum(rating_dict.values())"
   ]
  },
  {
   "cell_type": "code",
   "execution_count": 184,
   "metadata": {},
   "outputs": [
    {
     "name": "stderr",
     "output_type": "stream",
     "text": [
      "C:\\Users\\Finn\\AppData\\Local\\Temp\\ipykernel_3384\\3594161010.py:4: FutureWarning: Boolean inputs to the `inclusive` argument are deprecated in favour of `both` or `neither`.\n",
      "  df_test = df_test[df_test[\"averageRating\"].between(round(weighted_mean,1)-0.5,\n"
     ]
    }
   ],
   "source": [
    "# filtering the df based on the rating range and minimum number of votes\n",
    "\n",
    "df_test = df_test[df_test[\"numVotes\"] > 100]\n",
    "df_test = df_test[df_test[\"averageRating\"].between(round(weighted_mean,1)-0.5,\n",
    "                                                   round(weighted_mean,1)+0.5, inclusive=True)]"
   ]
  },
  {
   "cell_type": "code",
   "execution_count": 149,
   "metadata": {},
   "outputs": [],
   "source": [
    "# creating a dictionary for each genre and initializing the value to 0\n",
    "# assigning a value based on the relevance of each genre\n",
    "genre_values_dict = {}\n",
    "y = 3\n",
    "for i in range(3):\n",
    "    genre_values_dict[max(genre_dict, key=genre_dict.get)] = y\n",
    "    genre_dict.pop(max(genre_dict, key=genre_dict.get))\n",
    "    y -= 1"
   ]
  },
  {
   "cell_type": "code",
   "execution_count": 150,
   "metadata": {},
   "outputs": [],
   "source": [
    "# creating a dictionary for each type and initializing the value to 0\n",
    "# assigning a value based on the relevance of each type\n",
    "\n",
    "type_values_dict = {}\n",
    "y = 3\n",
    "for i in range(3):\n",
    "    type_values_dict[max(type_dict, key=type_dict.get)] = y\n",
    "    type_dict.pop(max(type_dict, key=type_dict.get))\n",
    "    y -= 1"
   ]
  },
  {
   "cell_type": "code",
   "execution_count": 151,
   "metadata": {},
   "outputs": [],
   "source": [
    "# creating a dictionary for each decade and initializing the value to 0\n",
    "# assigning a value based on the relevance of each type\n",
    "decade_value_dict = {}\n",
    "decade_value_dict[max(decade_dict, key=decade_dict.get)] = 3\n",
    "temp_list = list(decade_dict)\n",
    "decade_value_dict[temp_list[temp_list.index(max(decade_dict, key=decade_dict.get))-1]] = 1\n",
    "decade_value_dict[temp_list[temp_list.index(max(decade_dict, key=decade_dict.get))+1]] = 1"
   ]
  },
  {
   "cell_type": "code",
   "execution_count": 186,
   "metadata": {},
   "outputs": [],
   "source": [
    "df_test.reset_index(inplace=True, drop=True)"
   ]
  },
  {
   "cell_type": "code",
   "execution_count": 196,
   "metadata": {},
   "outputs": [],
   "source": [
    "# assigning a score to each movie based on the genre, type and decade\n",
    "\n",
    "df_test[\"Genre_Score\"] = 0\n",
    "df_test[\"Type_Score\"] = 0\n",
    "df_test[\"Decade_Score\"] = 0\n",
    "\n",
    "# assigning a score for the genre(s)\n",
    "for i in range(len(df_test)):\n",
    "    temp = df_test.iloc[i][\"genres\"].split(\",\")\n",
    "    for genre in temp:\n",
    "        genre = str(genre).lower()\n",
    "        if genre in genre_values_dict.keys():\n",
    "            df_test.at[i, \"Genre_Score\"] += genre_values_dict[genre]\n",
    "\n",
    "# assigning as score for the type\n",
    "    temp = df_test.iloc[i][\"titleType\"]\n",
    "    temp = str(temp).lower()\n",
    "    if temp in type_values_dict.keys():\n",
    "        df_test.at[i,\"Type_Score\"] += type_values_dict[temp]\n",
    "    \n",
    "# assigning a score for the decade/year\n",
    "    year = df_test.iloc[i][\"startYear\"]\n",
    "    for decade in decade_value_dict:\n",
    "        start_year, end_year = map(int, decade.split('-'))\n",
    "        if start_year <= int(year) <= end_year:\n",
    "            df_test.at[i,\"Decade_Score\"] += decade_value_dict[decade]\n",
    "\n",
    "# calculating the total score\n",
    "df_test[\"Total_Score\"] = df_test[\"Genre_Score\"] + df_test[\"Type_Score\"] + df_test[\"Decade_Score\"]"
   ]
  },
  {
   "cell_type": "code",
   "execution_count": 279,
   "metadata": {},
   "outputs": [
    {
     "name": "stdout",
     "output_type": "stream",
     "text": [
      "The follwing movies were found based on your personal preferences: ['The Solitary Cyclist', 'The Cemetery Vote', 'No Way Down', \"Brother's Keeper\", 'Have His Carcase: Episode One']\n"
     ]
    }
   ],
   "source": [
    "# selecting the top 5 movies based on the total score\n",
    "df_best_score = df_test[df_test.Total_Score == df_test[\"Total_Score\"].max()].sample(5)\n",
    "try:\n",
    "    print(f'The follwing movies were found based on your personal preferences: {df_best_score.sample(5)[\"primaryTitle\"].tolist()}')\n",
    "except ValueError:\n",
    "    print(f'The follwing movies were found based on your personal preferences: {df_best_score[\"primaryTitle\"].tolist()}')"
   ]
  },
  {
   "cell_type": "code",
   "execution_count": 280,
   "metadata": {},
   "outputs": [
    {
     "name": "stdout",
     "output_type": "stream",
     "text": [
      "The follwing movies were found based on your favorite Type: ['Little Miss Dangerous', 'Into the Shadows', 'Heroes of the Revolution', 'Siege', 'Silver Blaze']\n"
     ]
    }
   ],
   "source": [
    "# selecting the top 5 movies based on the favorite type and highest score\n",
    "df_fav_type = df_test[df_test.titleType == list(type_values_dict.keys())[0]]\n",
    "df_fav_type = df_fav_type[df_fav_type.Total_Score == df_fav_type[\"Total_Score\"].max()]\n",
    "try:\n",
    "    print(f'The follwing movies were found based on your favorite Type: {df_fav_type.sample(5)[\"primaryTitle\"].tolist()}')\n",
    "except ValueError:\n",
    "    print(f'The follwing movies were found based on your favorite Type: {df_fav_type[\"primaryTitle\"].tolist()}')"
   ]
  },
  {
   "cell_type": "code",
   "execution_count": 281,
   "metadata": {},
   "outputs": [
    {
     "name": "stdout",
     "output_type": "stream",
     "text": [
      "The follwing movies were found based on your favorite genre: ['Road', 'Dekalog, cztery', 'Grown-Ups', 'Coast to Coast', 'Dekalog, siedem']\n"
     ]
    }
   ],
   "source": [
    "# selecting the top 5 movies based on the favorite genre and highest score\n",
    "df_fav_genre = df_test[df_test.genres == list(genre_values_dict.keys())[0]]\n",
    "df_fav_genre = df_fav_genre[df_fav_genre.Total_Score == df_fav_genre[\"Total_Score\"].max()]\n",
    "\n",
    "try:\n",
    "    print(f'The follwing movies were found based on your favorite genre: {df_fav_genre.sample(5)[\"primaryTitle\"].tolist()}')\n",
    "except ValueError:\n",
    "    print(f'The follwing movies were found based on your favorite genre: {df_fav_genre[\"primaryTitle\"].tolist()}')\n",
    "    "
   ]
  }
 ],
 "metadata": {
  "kernelspec": {
   "display_name": "Python 3",
   "language": "python",
   "name": "python3"
  },
  "language_info": {
   "codemirror_mode": {
    "name": "ipython",
    "version": 3
   },
   "file_extension": ".py",
   "mimetype": "text/x-python",
   "name": "python",
   "nbconvert_exporter": "python",
   "pygments_lexer": "ipython3",
   "version": "3.11.2"
  },
  "orig_nbformat": 4
 },
 "nbformat": 4,
 "nbformat_minor": 2
}
